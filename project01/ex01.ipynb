{
 "cells": [
  {
   "cell_type": "code",
   "execution_count": 34,
   "metadata": {},
   "outputs": [],
   "source": [
    "from keras import layers\n",
    "from keras import Model\n",
    "from keras.applications.vgg16 import VGG16\n",
    "from keras.optimizers import Adam\n",
    "import os\n",
    "import matplotlib.pyplot as plt\n",
    "import matplotlib.image as mpimg\n",
    "from keras.preprocessing.image import ImageDataGenerator\n",
    "import shutil\n",
    "import numpy as np\n",
    "from PIL import Image\n",
    "import onnxruntime as ort"
   ]
  },
  {
   "cell_type": "code",
   "execution_count": 12,
   "metadata": {},
   "outputs": [],
   "source": [
    "base_dir = 'data'\n",
    "train_dir = os.path.join(base_dir, 'train')\n",
    "train_dir_dogs = os.path.join(base_dir, 'train/dogs')\n",
    "train_dir_cats = os.path.join(base_dir, 'train/cats')\n",
    "\n",
    "validation_dir = os.path.join(base_dir, 'validation')\n",
    "validation_dir_dogs = os.path.join(base_dir, 'validation/dogs')\n",
    "validation_dir_cats = os.path.join(base_dir, 'validation/cats')"
   ]
  },
  {
   "cell_type": "code",
   "execution_count": 4,
   "metadata": {},
   "outputs": [
    {
     "name": "stdout",
     "output_type": "stream",
     "text": [
      "total training cat images: 1000\n",
      "total training dog images: 1000\n",
      "total validation cat images: 500\n",
      "total validation dog images: 500\n"
     ]
    }
   ],
   "source": [
    "print('total training cat images:', len(os.listdir(train_dir_cats)))\n",
    "print('total training dog images:', len(os.listdir(train_dir_dogs)))\n",
    "print('total validation cat images:', len(os.listdir(validation_dir_cats)))\n",
    "print('total validation dog images:', len(os.listdir(validation_dir_dogs)))"
   ]
  },
  {
   "cell_type": "code",
   "execution_count": 16,
   "metadata": {},
   "outputs": [
    {
     "name": "stdout",
     "output_type": "stream",
     "text": [
      "Found 2000 images belonging to 2 classes.\n",
      "Found 1000 images belonging to 2 classes.\n"
     ]
    }
   ],
   "source": [
    "train_datagen = ImageDataGenerator(rescale=1./255)\n",
    "val_datagen = ImageDataGenerator(rescale=1./255)\n",
    "\n",
    "train_generator = train_datagen.flow_from_directory(\n",
    "        train_dir,\n",
    "        target_size=(150, 150),\n",
    "        batch_size=20,\n",
    "        shuffle=True,\n",
    "        class_mode='categorical')\n",
    "\n",
    "validation_generator = val_datagen.flow_from_directory(\n",
    "        validation_dir,\n",
    "        target_size=(150, 150),\n",
    "        shuffle=True,\n",
    "        batch_size=20,\n",
    "        class_mode='categorical')"
   ]
  },
  {
   "cell_type": "code",
   "execution_count": 14,
   "metadata": {},
   "outputs": [
    {
     "name": "stdout",
     "output_type": "stream",
     "text": [
      "Downloading data from https://storage.googleapis.com/tensorflow/keras-applications/vgg16/vgg16_weights_tf_dim_ordering_tf_kernels_notop.h5\n",
      "58889256/58889256 [==============================] - 6s 0us/step\n"
     ]
    },
    {
     "name": "stderr",
     "output_type": "stream",
     "text": [
      "/Users/eryk/miniconda3/envs/ml/lib/python3.10/site-packages/keras/optimizers/legacy/adam.py:117: UserWarning: The `lr` argument is deprecated, use `learning_rate` instead.\n",
      "  super().__init__(name, **kwargs)\n"
     ]
    }
   ],
   "source": [
    "model = VGG16(include_top=False, input_shape=(150, 150, 3))\n",
    "for layer in model.layers:\n",
    "    layer.trainable = False\n",
    "\n",
    "flat1 = layers.Flatten()(model.layers[-1].output)\n",
    "class1 = layers.Dense(128, activation='relu')(flat1)\n",
    "output = layers.Dense(2, activation='softmax')(class1)\n",
    "\n",
    "model = Model(inputs=model.inputs, outputs=output)\n",
    "opt = Adam(lr=0.01)\n",
    "model.compile(optimizer=opt, loss='binary_crossentropy', metrics=['accuracy'])"
   ]
  },
  {
   "cell_type": "code",
   "execution_count": 15,
   "metadata": {},
   "outputs": [
    {
     "name": "stdout",
     "output_type": "stream",
     "text": [
      "Model: \"model\"\n",
      "_________________________________________________________________\n",
      " Layer (type)                Output Shape              Param #   \n",
      "=================================================================\n",
      " input_1 (InputLayer)        [(None, 150, 150, 3)]     0         \n",
      "                                                                 \n",
      " block1_conv1 (Conv2D)       (None, 150, 150, 64)      1792      \n",
      "                                                                 \n",
      " block1_conv2 (Conv2D)       (None, 150, 150, 64)      36928     \n",
      "                                                                 \n",
      " block1_pool (MaxPooling2D)  (None, 75, 75, 64)        0         \n",
      "                                                                 \n",
      " block2_conv1 (Conv2D)       (None, 75, 75, 128)       73856     \n",
      "                                                                 \n",
      " block2_conv2 (Conv2D)       (None, 75, 75, 128)       147584    \n",
      "                                                                 \n",
      " block2_pool (MaxPooling2D)  (None, 37, 37, 128)       0         \n",
      "                                                                 \n",
      " block3_conv1 (Conv2D)       (None, 37, 37, 256)       295168    \n",
      "                                                                 \n",
      " block3_conv2 (Conv2D)       (None, 37, 37, 256)       590080    \n",
      "                                                                 \n",
      " block3_conv3 (Conv2D)       (None, 37, 37, 256)       590080    \n",
      "                                                                 \n",
      " block3_pool (MaxPooling2D)  (None, 18, 18, 256)       0         \n",
      "                                                                 \n",
      " block4_conv1 (Conv2D)       (None, 18, 18, 512)       1180160   \n",
      "                                                                 \n",
      " block4_conv2 (Conv2D)       (None, 18, 18, 512)       2359808   \n",
      "                                                                 \n",
      " block4_conv3 (Conv2D)       (None, 18, 18, 512)       2359808   \n",
      "                                                                 \n",
      " block4_pool (MaxPooling2D)  (None, 9, 9, 512)         0         \n",
      "                                                                 \n",
      " block5_conv1 (Conv2D)       (None, 9, 9, 512)         2359808   \n",
      "                                                                 \n",
      " block5_conv2 (Conv2D)       (None, 9, 9, 512)         2359808   \n",
      "                                                                 \n",
      " block5_conv3 (Conv2D)       (None, 9, 9, 512)         2359808   \n",
      "                                                                 \n",
      " block5_pool (MaxPooling2D)  (None, 4, 4, 512)         0         \n",
      "                                                                 \n",
      " flatten (Flatten)           (None, 8192)              0         \n",
      "                                                                 \n",
      " dense (Dense)               (None, 128)               1048704   \n",
      "                                                                 \n",
      " dense_1 (Dense)             (None, 2)                 258       \n",
      "                                                                 \n",
      "=================================================================\n",
      "Total params: 15,763,650\n",
      "Trainable params: 1,048,962\n",
      "Non-trainable params: 14,714,688\n",
      "_________________________________________________________________\n"
     ]
    }
   ],
   "source": [
    "model.summary()"
   ]
  },
  {
   "cell_type": "code",
   "execution_count": 18,
   "metadata": {},
   "outputs": [
    {
     "name": "stdout",
     "output_type": "stream",
     "text": [
      "Epoch 1/5\n"
     ]
    },
    {
     "name": "stderr",
     "output_type": "stream",
     "text": [
      "/var/folders/p3/1mlnmr7563b2lsdz5xhg4k7w0000gn/T/ipykernel_98999/4198420037.py:1: UserWarning: `Model.fit_generator` is deprecated and will be removed in a future version. Please use `Model.fit`, which supports generators.\n",
      "  history = model.fit_generator(\n"
     ]
    },
    {
     "name": "stdout",
     "output_type": "stream",
     "text": [
      "100/100 [==============================] - 130s 1s/step - loss: 0.2754 - accuracy: 0.8830 - val_loss: 0.3254 - val_accuracy: 0.8660\n",
      "Epoch 2/5\n",
      "100/100 [==============================] - 123s 1s/step - loss: 0.1437 - accuracy: 0.9445 - val_loss: 0.2958 - val_accuracy: 0.8840\n",
      "Epoch 3/5\n",
      "100/100 [==============================] - 123s 1s/step - loss: 0.0782 - accuracy: 0.9715 - val_loss: 0.3424 - val_accuracy: 0.8960\n",
      "Epoch 4/5\n",
      "100/100 [==============================] - 124s 1s/step - loss: 0.0848 - accuracy: 0.9665 - val_loss: 0.3358 - val_accuracy: 0.8820\n",
      "Epoch 5/5\n",
      "100/100 [==============================] - 126s 1s/step - loss: 0.0615 - accuracy: 0.9760 - val_loss: 0.4087 - val_accuracy: 0.8710\n"
     ]
    }
   ],
   "source": [
    "history = model.fit_generator(\n",
    "      train_generator,\n",
    "      steps_per_epoch=100,\n",
    "      epochs=5,\n",
    "      validation_data=validation_generator,\n",
    "      validation_steps=50,\n",
    "      verbose=True)"
   ]
  },
  {
   "cell_type": "code",
   "execution_count": 19,
   "metadata": {},
   "outputs": [
    {
     "data": {
      "text/plain": [
       "<Figure size 640x480 with 0 Axes>"
      ]
     },
     "execution_count": 19,
     "metadata": {},
     "output_type": "execute_result"
    },
    {
     "data": {
      "image/png": "[encoded data removed]",
      "text/plain": [
       "<Figure size 640x480 with 1 Axes>"
      ]
     },
     "metadata": {},
     "output_type": "display_data"
    },
    {
     "data": {
      "text/plain": [
       "<Figure size 640x480 with 0 Axes>"
      ]
     },
     "metadata": {},
     "output_type": "display_data"
    }
   ],
   "source": [
    "acc = history.history['accuracy']\n",
    "val_acc = history.history['val_accuracy']\n",
    "\n",
    "loss = history.history['loss']\n",
    "val_loss = history.history['val_loss']\n",
    "\n",
    "epochs = range(len(acc))\n",
    "\n",
    "plt.plot(epochs, acc)\n",
    "plt.plot(epochs, val_acc)\n",
    "plt.title('Training and validation accuracy')\n",
    "plt.figure()"
   ]
  },
  {
   "cell_type": "code",
   "execution_count": 20,
   "metadata": {},
   "outputs": [
    {
     "data": {
      "image/png": "[encoded data removed]",
      "text/plain": [
       "<Figure size 640x480 with 1 Axes>"
      ]
     },
     "metadata": {},
     "output_type": "display_data"
    }
   ],
   "source": [
    "plt.plot(epochs, loss)\n",
    "plt.plot(epochs, val_loss)\n",
    "plt.title('Training and validation loss')\n",
    "plt.show()"
   ]
  },
  {
   "cell_type": "code",
   "execution_count": 27,
   "metadata": {},
   "outputs": [
    {
     "name": "stderr",
     "output_type": "stream",
     "text": [
      "WARNING:absl:Found untraced functions such as _jit_compiled_convolution_op, _jit_compiled_convolution_op, _jit_compiled_convolution_op, _jit_compiled_convolution_op, _jit_compiled_convolution_op while saving (showing 5 of 13). These functions will not be directly callable after loading.\n"
     ]
    },
    {
     "name": "stdout",
     "output_type": "stream",
     "text": [
      "INFO:tensorflow:Assets written to: cats_dogs_saved_model/assets\n"
     ]
    },
    {
     "name": "stderr",
     "output_type": "stream",
     "text": [
      "INFO:tensorflow:Assets written to: cats_dogs_saved_model/assets\n"
     ]
    }
   ],
   "source": [
    "saved_models_path=\"cats_dogs_saved_model\"\n",
    "if not os.path.isdir(saved_models_path):\n",
    "      os.makedirs(saved_models_path)\n",
    "\n",
    "model.save(saved_models_path)"
   ]
  },
  {
   "cell_type": "code",
   "execution_count": 28,
   "metadata": {},
   "outputs": [
    {
     "data": {
      "text/plain": [
       "'/Users/eryk/Documents/Metody głębokiego uczenia w systemach wizyjnych i wirtualnej rzeczywistości/deep-learning-vr-uni-projects/project01/cats_dogs_saved_model.zip'"
      ]
     },
     "execution_count": 28,
     "metadata": {},
     "output_type": "execute_result"
    }
   ],
   "source": [
    "shutil.make_archive(saved_models_path, 'zip', saved_models_path)"
   ]
  },
  {
   "cell_type": "code",
   "execution_count": null,
   "metadata": {},
   "outputs": [],
   "source": [
    "# !pip install onnxruntime\n",
    "# !pip install onnx\n",
    "# !pip install -U tf2onnx"
   ]
  },
  {
   "cell_type": "code",
   "execution_count": 33,
   "metadata": {},
   "outputs": [
    {
     "name": "stderr",
     "output_type": "stream",
     "text": [
      "/Users/eryk/miniconda3/envs/ml/lib/python3.10/pty.py:89: RuntimeWarning: os.fork() was called. os.fork() is incompatible with multithreaded code, and JAX is multithreaded, so this will likely lead to a deadlock.\n",
      "  pid, fd = os.forkpty()\n"
     ]
    },
    {
     "name": "stdout",
     "output_type": "stream",
     "text": [
      "/Users/eryk/miniconda3/envs/ml/lib/python3.10/runpy.py:126: RuntimeWarning: 'tf2onnx.convert' found in sys.modules after import of package 'tf2onnx', but prior to execution of 'tf2onnx.convert'; this may result in unpredictable behaviour\n",
      "  warn(RuntimeWarning(msg))\n",
      "2025-03-26 12:27:04,208 - WARNING - '--tag' not specified for saved_model. Using --tag serve\n",
      "2025-03-26 12:27:04,623 - INFO - Signatures found in model: [serving_default].\n",
      "2025-03-26 12:27:04,623 - WARNING - '--signature_def' not specified, using first signature: serving_default\n",
      "2025-03-26 12:27:04,623 - INFO - Output names: ['dense_1']\n",
      "2025-03-26 12:27:05,545 - INFO - Using tensorflow=2.12.0, onnx=1.17.0, tf2onnx=1.16.1/15c810\n",
      "2025-03-26 12:27:05,545 - INFO - Using opset <onnx, 11>\n",
      "2025-03-26 12:27:05,680 - INFO - Computed 0 values for constant folding\n",
      "2025-03-26 12:27:05,922 - INFO - Optimizing ONNX model\n",
      "2025-03-26 12:27:06,532 - INFO - After optimization: Cast -1 (1->0), Identity -2 (2->0), Transpose -34 (36->2)\n",
      "2025-03-26 12:27:06,569 - INFO - \n",
      "2025-03-26 12:27:06,569 - INFO - Successfully converted TensorFlow model ./cats_dogs_saved_model to ONNX\n",
      "2025-03-26 12:27:06,569 - INFO - Model inputs: ['input_1']\n",
      "2025-03-26 12:27:06,569 - INFO - Model outputs: ['dense_1']\n",
      "2025-03-26 12:27:06,569 - INFO - ONNX model is saved at cats_dogs_saved_model.onnx\n"
     ]
    }
   ],
   "source": [
    "# !unzip cats_dogs_saved_model.zip -d cats_dogs_saved_model\n",
    "!python -m tf2onnx.convert --saved-model ./cats_dogs_saved_model --opset 11 --output cats_dogs_saved_model.onnx"
   ]
  },
  {
   "cell_type": "code",
   "execution_count": 35,
   "metadata": {},
   "outputs": [
    {
     "name": "stdout",
     "output_type": "stream",
     "text": [
      "[array([[9.9999964e-01, 3.0233832e-07]], dtype=float32)]\n",
      "[array([[0.00111384, 0.99888617]], dtype=float32)]\n"
     ]
    },
    {
     "name": "stderr",
     "output_type": "stream",
     "text": [
      "\u001b[0;93m2025-03-26 12:28:37.899870 [W:onnxruntime:, coreml_execution_provider.cc:112 GetCapability] CoreMLExecutionProvider::GetCapability, number of partitions supported by CoreML: 2 number of nodes in the graph: 38 number of nodes supported by CoreML: 36\u001b[m\n"
     ]
    }
   ],
   "source": [
    "def classify(my_path, sess_ort):\n",
    "    img = Image.open(my_path).convert('RGB').resize((150,150))\n",
    "    img=np.expand_dims(np.asarray(img, dtype=\"float32\"),axis=0)\n",
    "    img=img/255\n",
    "    outputs = sess_ort.run(None, {sess_ort.get_inputs()[0].name: img})\n",
    "    return outputs\n",
    "\n",
    "onnx_path = 'cats_dogs_saved_model.onnx'\n",
    "sess_ort = ort.InferenceSession(onnx_path,providers=ort.get_available_providers())\n",
    "print(classify(\"./data/validation/cats/cat.2479.jpg\", sess_ort))\n",
    "print(classify(\"./data/validation/dogs/dog.2473.jpg\", sess_ort))"
   ]
  },
  {
   "cell_type": "code",
   "execution_count": null,
   "metadata": {},
   "outputs": [],
   "source": []
  }
 ],
 "metadata": {
  "kernelspec": {
   "display_name": "ml",
   "language": "python",
   "name": "python3"
  },
  "language_info": {
   "codemirror_mode": {
    "name": "ipython",
    "version": 3
   },
   "file_extension": ".py",
   "mimetype": "text/x-python",
   "name": "python",
   "nbconvert_exporter": "python",
   "pygments_lexer": "ipython3",
   "version": "3.10.12"
  }
 },
 "nbformat": 4,
 "nbformat_minor": 2
}
